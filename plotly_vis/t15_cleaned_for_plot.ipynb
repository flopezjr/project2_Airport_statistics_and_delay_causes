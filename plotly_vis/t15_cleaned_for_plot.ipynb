{
 "cells": [
  {
   "cell_type": "code",
   "execution_count": null,
   "metadata": {},
   "outputs": [],
   "source": [
    "%load_ext lab_black"
   ]
  },
  {
   "cell_type": "code",
   "execution_count": null,
   "metadata": {},
   "outputs": [],
   "source": [
    "import plotly.express as px\n",
    "import plotly.graph_objects as go\n",
    "import geopandas as gpd\n",
    "import pandas as pd"
   ]
  },
  {
   "cell_type": "code",
   "execution_count": null,
   "metadata": {},
   "outputs": [],
   "source": [
    "df1 = pd.read_csv(\"../db/final_topairports_metadata.csv\")"
   ]
  },
  {
   "cell_type": "code",
   "execution_count": null,
   "metadata": {},
   "outputs": [],
   "source": [
    "total_delays = df1.groupby(\"airport\").arr_flights.sum().sort_values(ascending=False)"
   ]
  },
  {
   "cell_type": "code",
   "execution_count": null,
   "metadata": {},
   "outputs": [],
   "source": [
    "df1.groupby(\"flight_year\").uid.count()"
   ]
  },
  {
   "cell_type": "code",
   "execution_count": null,
   "metadata": {},
   "outputs": [],
   "source": [
    "yearly_group = (\n",
    "    df1.groupby([\"flight_year\", \"airport\", \"Latitude\", \"Longitude\"], as_index=False)\n",
    "    .sum()\n",
    "    .drop(columns=[\"uid\", \"flight_month\"])\n",
    ")\n",
    "yearly_group"
   ]
  },
  {
   "cell_type": "code",
   "execution_count": null,
   "metadata": {},
   "outputs": [],
   "source": [
    "airport_group = (\n",
    "    df1.groupby([\"airport\", \"Latitude\", \"Longitude\"], as_index=False)\n",
    "    .sum()\n",
    "    .drop(columns=[\"uid\", \"flight_month\", \"flight_year\"])\n",
    "    .sort_values(\"arr_flights\", ascending=False)\n",
    ")\n",
    "airport_group"
   ]
  },
  {
   "cell_type": "code",
   "execution_count": null,
   "metadata": {},
   "outputs": [],
   "source": [
    "yearly_group.to_csv(\"db/yearly_group.csv\", index=False)\n",
    "airport_group.to_csv(\"db/airport_group.csv\", index=False)"
   ]
  },
  {
   "cell_type": "code",
   "execution_count": null,
   "metadata": {},
   "outputs": [],
   "source": [
    "fig = px.scatter_geo(\n",
    "    yearly_group,\n",
    "    lat=\"Longitude\",\n",
    "    lon=\"Latitude\",\n",
    "    animation_frame=\"flight_year\",\n",
    "    color=\"arr_flights\",\n",
    "    size=\"arr_flights\",\n",
    "    scope=\"usa\",\n",
    "    hover_name=\"airport\",\n",
    "    size_max=30,\n",
    "    color_continuous_scale=px.colors.sequential.Bluered,\n",
    "    labels={\"arr_flights\": \"Delayed Flights\", \"flight_year\": \"Year\"},\n",
    ")\n",
    "\n",
    "fig.update_geos(lataxis_showgrid=True, lonaxis_showgrid=True)\n",
    "fig.update_layout(title_text=\"United States Top Busiest Airports by Year (2013 - 2018)\")\n",
    "\n",
    "fig.show()"
   ]
  },
  {
   "cell_type": "code",
   "execution_count": null,
   "metadata": {},
   "outputs": [],
   "source": [
    "fig = px.scatter_geo(\n",
    "    airport_group,\n",
    "    lat=\"Longitude\",\n",
    "    lon=\"Latitude\",\n",
    "    color=\"airport\",\n",
    "    size=\"arr_flights\",\n",
    "    scope=\"usa\",\n",
    "    hover_name=\"airport\",\n",
    "    size_max=30,\n",
    "    color_continuous_scale=px.colors.sequential.Bluered,\n",
    "    labels={\"airport\": \"Airports\", \"arr_flights\": \"Delayed Flights\"},\n",
    "    text=\"airport\",\n",
    ")\n",
    "\n",
    "fig.add_trace(\n",
    "    go.Scattergeo(\n",
    "        lon=airport_group[\"Latitude\"],\n",
    "        lat=airport_group[\"Longitude\"],\n",
    "        text=airport_group[\"airport\"],\n",
    "        textposition=[\n",
    "            \"middle center\",\n",
    "            \"middle center\",\n",
    "            \"middle center\",\n",
    "            \"middle center\",\n",
    "            \"middle center\",\n",
    "            \"middle center\",\n",
    "            \"middle center\",\n",
    "            \"middle center\",\n",
    "            \"middle center\",\n",
    "            \"top left\",\n",
    "            \"middle center\",\n",
    "            \"middle center\",\n",
    "            \"middle center\",\n",
    "            \"middle center\",\n",
    "            \"bottom right\",\n",
    "        ],\n",
    "        mode=\"text\",\n",
    "        showlegend=False,\n",
    "    )\n",
    ")\n",
    "\n",
    "fig.update_geos(lataxis_showgrid=True, lonaxis_showgrid=True)\n",
    "fig.update_layout(title_text=\"United States Top Busiest Airports Total (2013 - 2018)\")\n",
    "\n",
    "fig.show()"
   ]
  },
  {
   "cell_type": "code",
   "execution_count": null,
   "metadata": {},
   "outputs": [],
   "source": []
  }
 ],
 "metadata": {
  "environment": {
   "name": "common-cpu.m54",
   "type": "gcloud",
   "uri": "gcr.io/deeplearning-platform-release/base-cpu:m54"
  },
  "kernelspec": {
   "display_name": "Python 3",
   "language": "python",
   "name": "python3"
  },
  "language_info": {
   "codemirror_mode": {
    "name": "ipython",
    "version": 3
   },
   "file_extension": ".py",
   "mimetype": "text/x-python",
   "name": "python",
   "nbconvert_exporter": "python",
   "pygments_lexer": "ipython3",
   "version": "3.7.8"
  }
 },
 "nbformat": 4,
 "nbformat_minor": 4
}
